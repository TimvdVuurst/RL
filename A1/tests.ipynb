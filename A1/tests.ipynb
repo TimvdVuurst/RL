{
 "cells": [
  {
   "cell_type": "code",
   "execution_count": 2,
   "metadata": {},
   "outputs": [
    {
     "data": {
      "text/plain": [
       "0"
      ]
     },
     "execution_count": 2,
     "metadata": {},
     "output_type": "execute_result"
    }
   ],
   "source": [
    "import gymnasium as gym\n",
    "import numpy as np\n",
    "\n",
    "envs = gym.make_vec('CartPole-v1', num_envs= 1000)\n",
    "envs.single_action_space.n\n",
    "np.random.choice(2)"
   ]
  },
  {
   "cell_type": "code",
   "execution_count": 17,
   "metadata": {},
   "outputs": [
    {
     "name": "stdout",
     "output_type": "stream",
     "text": [
      "tensor([ 0.,  1.,  2.,  3.,  4.,  5.,  6.,  7.,  8.,  9., 10., 11., 12., 13.,\n",
      "        14., 15., 16., 17., 18., 19., 20., 21., 22., 23., 24., 25., 26., 27.,\n",
      "        28., 29., 30., 31., 32., 33., 34., 35., 36., 37., 38., 39., 40., 41.,\n",
      "        42., 43., 44., 45., 46., 47., 48., 49., 50., 51., 52., 53., 54., 55.,\n",
      "        56., 57., 58., 59., 60., 61., 62., 63., 64., 65., 66., 67., 68., 69.,\n",
      "        70., 71., 72., 73., 74., 75., 76., 77., 78., 79., 80., 81., 82., 83.,\n",
      "        84., 85., 86., 87., 88., 89., 90., 91., 92., 93., 94., 95., 96., 97.,\n",
      "        98., 99.])\n"
     ]
    },
    {
     "data": {
      "text/plain": [
       "tensor([200., 100., 100., 200., 100., 100., 200., 200., 100., 200., 200., 100.,\n",
       "        100., 100., 200., 100., 200., 200., 200., 200., 200., 200., 100., 100.,\n",
       "        200., 100., 100., 200., 200., 100., 100., 100., 200., 200., 200., 100.,\n",
       "        100., 200., 100., 100., 100., 200., 100., 100., 100., 100., 200., 200.,\n",
       "        200., 200., 200., 200., 100., 200., 200., 200., 100., 100., 200., 200.,\n",
       "        200., 200., 100., 200., 100., 100., 100., 100., 200., 100., 200., 200.,\n",
       "        200., 200., 100., 200., 200., 100., 100., 100., 100., 100., 200., 200.,\n",
       "        200., 200., 100., 100., 200., 100., 100., 100., 200., 100., 100., 100.,\n",
       "        200., 200., 100., 100.])"
      ]
     },
     "execution_count": 17,
     "metadata": {},
     "output_type": "execute_result"
    }
   ],
   "source": [
    "from torch import Tensor\n",
    "import numpy as np\n",
    "\n",
    "test = np.random.choice([True,False],size=100)\n",
    "test2 = Tensor(np.arange(100))\n",
    "r = Tensor(np.full(100,100))\n",
    "print(test2)\n",
    "test2[~test] = r[~test]\n",
    "test2[test] = r[test]*2\n",
    "test2"
   ]
  }
 ],
 "metadata": {
  "kernelspec": {
   "display_name": ".venv",
   "language": "python",
   "name": "python3"
  },
  "language_info": {
   "codemirror_mode": {
    "name": "ipython",
    "version": 3
   },
   "file_extension": ".py",
   "mimetype": "text/x-python",
   "name": "python",
   "nbconvert_exporter": "python",
   "pygments_lexer": "ipython3",
   "version": "3.13.2"
  }
 },
 "nbformat": 4,
 "nbformat_minor": 2
}
