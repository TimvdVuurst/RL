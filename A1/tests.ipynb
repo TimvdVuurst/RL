{
 "cells": [
  {
   "cell_type": "code",
   "execution_count": 2,
   "metadata": {},
   "outputs": [
    {
     "data": {
      "text/plain": [
       "0"
      ]
     },
     "execution_count": 2,
     "metadata": {},
     "output_type": "execute_result"
    }
   ],
   "source": [
    "import gymnasium as gym\n",
    "import numpy as np\n",
    "\n",
    "envs = gym.make_vec('CartPole-v1', num_envs= 1000)\n",
    "envs.single_action_space.n\n",
    "np.random.choice(2)"
   ]
  },
  {
   "cell_type": "code",
   "execution_count": 3,
   "metadata": {},
   "outputs": [
    {
     "data": {
      "text/plain": [
       "tensor([ 9., 19., 29., 39., 49., 59., 69., 79., 89., 99.])"
      ]
     },
     "execution_count": 3,
     "metadata": {},
     "output_type": "execute_result"
    }
   ],
   "source": [
    "from torch import Tensor\n",
    "import torch\n",
    "import numpy as np\n",
    "\n",
    "test = np.random.choice([True,False],size=100)\n",
    "test2 = Tensor(np.arange(100).reshape(10,10))\n",
    "torch.max(test2, 1)[0]"
   ]
  },
  {
   "cell_type": "code",
   "execution_count": 4,
   "metadata": {},
   "outputs": [
    {
     "data": {
      "text/plain": [
       "tensor(1.)"
      ]
     },
     "execution_count": 4,
     "metadata": {},
     "output_type": "execute_result"
    }
   ],
   "source": [
    "loss = torch.nn.MSELoss()\n",
    "y, q = Tensor([1,2,3]),Tensor([2,3,4])\n",
    "loss(y,q)"
   ]
  },
  {
   "cell_type": "code",
   "execution_count": 5,
   "metadata": {},
   "outputs": [
    {
     "data": {
      "text/plain": [
       "tensor([[0.0763, 0.0962, 0.8275],\n",
       "        [0.3690, 0.3508, 0.2802]])"
      ]
     },
     "execution_count": 5,
     "metadata": {},
     "output_type": "execute_result"
    }
   ],
   "source": [
    "m = torch.nn.Softmax(dim=1)\n",
    "input = torch.randn(2, 3)\n",
    "output = m(input)\n",
    "output"
   ]
  },
  {
   "cell_type": "code",
   "execution_count": 7,
   "metadata": {},
   "outputs": [
    {
     "name": "stdout",
     "output_type": "stream",
     "text": [
      "tensor(1.) tensor(2.) tensor(3.)\n",
      "tensor(2.) tensor(3.) tensor(5.)\n",
      "tensor(3.) tensor(4.) tensor(6.)\n"
     ]
    }
   ],
   "source": [
    "z = Tensor([3,5,6])\n",
    "for yi, qi, zi in zip(y,q,z):\n",
    "    print(yi,qi, zi)"
   ]
  },
  {
   "cell_type": "code",
   "execution_count": 8,
   "metadata": {},
   "outputs": [
    {
     "name": "stdout",
     "output_type": "stream",
     "text": [
      "Help on function make_vec in module gymnasium.envs.registration:\n",
      "\n",
      "make_vec(id: 'str | EnvSpec', num_envs: 'int' = 1, vectorization_mode: 'VectorizeMode | str | None' = None, vector_kwargs: 'dict[str, Any] | None' = None, wrappers: 'Sequence[Callable[[Env], Wrapper]] | None' = None, **kwargs) -> 'gym.vector.VectorEnv'\n",
      "    Create a vector environment according to the given ID.\n",
      "    \n",
      "    To find all available environments use :func:`gymnasium.pprint_registry` or ``gymnasium.registry.keys()`` for all valid ids.\n",
      "    We refer to the Vector environment as the vectorizor while the environment being vectorized is the base or vectorized environment (``vectorizor(vectorized env)``).\n",
      "    \n",
      "    Args:\n",
      "        id: Name of the environment. Optionally, a module to import can be included, e.g. 'module:Env-v0'\n",
      "        num_envs: Number of environments to create\n",
      "        vectorization_mode: The vectorization method used, defaults to ``None`` such that if env id' spec has a ``vector_entry_point`` (not ``None``),\n",
      "            this is first used otherwise defaults to ``sync`` to use the :class:`gymnasium.vector.SyncVectorEnv`.\n",
      "            Valid modes are ``\"async\"``, ``\"sync\"`` or ``\"vector_entry_point\"``. Recommended to use the :class:`VectorizeMode` enum rather than strings.\n",
      "        vector_kwargs: Additional arguments to pass to the vectorizor environment constructor, i.e., ``SyncVectorEnv(..., **vector_kwargs)``.\n",
      "        wrappers: A sequence of wrapper functions to apply to the base environment. Can only be used in ``\"sync\"`` or ``\"async\"`` mode.\n",
      "        **kwargs: Additional arguments passed to the base environment constructor.\n",
      "    \n",
      "    Returns:\n",
      "        An instance of the environment.\n",
      "    \n",
      "    Raises:\n",
      "        Error: If the ``id`` doesn't exist then an error is raised\n",
      "\n"
     ]
    }
   ],
   "source": [
    "import gymnasium as gym\n",
    "\n",
    "help(gym.make_vec)"
   ]
  },
  {
   "cell_type": "code",
   "execution_count": 29,
   "metadata": {},
   "outputs": [
    {
     "data": {
      "text/plain": [
       "tensor([[1],\n",
       "        [4]])"
      ]
     },
     "execution_count": 29,
     "metadata": {},
     "output_type": "execute_result"
    }
   ],
   "source": [
    "t = torch.tensor([[1, 2], [3, 4]])\n",
    "action = [0,1]\n",
    "action_index = torch.tensor([[a] for a in action])\n",
    "torch.gather(t, 1, action_index)"
   ]
  }
 ],
 "metadata": {
  "kernelspec": {
   "display_name": "Python 3",
   "language": "python",
   "name": "python3"
  },
  "language_info": {
   "codemirror_mode": {
    "name": "ipython",
    "version": 3
   },
   "file_extension": ".py",
   "mimetype": "text/x-python",
   "name": "python",
   "nbconvert_exporter": "python",
   "pygments_lexer": "ipython3",
   "version": "3.11.8"
  }
 },
 "nbformat": 4,
 "nbformat_minor": 2
}
